{
  "nbformat": 4,
  "nbformat_minor": 0,
  "metadata": {
    "colab": {
      "name": "Pandas_Handling_MissingValue.ipynb",
      "provenance": []
    },
    "kernelspec": {
      "name": "python3",
      "display_name": "Python 3"
    },
    "language_info": {
      "name": "python"
    }
  },
  "cells": [
    {
      "cell_type": "code",
      "execution_count": 39,
      "metadata": {
        "id": "4FNzQNSDu4mJ"
      },
      "outputs": [],
      "source": [
        "import pandas as pd\n",
        "import numpy as np\n",
        "import matplotlib.pyplot as plt\n",
        "import seaborn as sns"
      ]
    },
    {
      "cell_type": "code",
      "source": [
        "\n",
        "\n",
        "data = pd.DataFrame({\n",
        "'ord_no':[70001,np.nan,70002,70004,np.nan,70005,np.nan,70010,70003,70012,np.nan,70013],\n",
        "'purch_amt':[150.5,270.65,65.26,110.5,948.5,2400.6,5760,1983.43,2480.4,250.45, 75.29,3045.6],\n",
        "'ord_date': ['2012-10-05','2012-09-10',np.nan,'2012-08-17','2012-09-10','2012-07-27','2012-09-10','2012-10-10','2012-10-10','2012-06-27','2012-08-17','2012-04-25'],\n",
        "'customer_id':[3002,3001,3001,3003,3002,3001,3001,3004,3003,3002,3001,3001],\n",
        "'salesman_id':[5002,5003,5001,np.nan,5002,5001,5001,np.nan,5003,5002,5003,np.nan]})\n",
        "\n",
        "print(data)"
      ],
      "metadata": {
        "colab": {
          "base_uri": "https://localhost:8080/"
        },
        "id": "0iW_wJpjvIo3",
        "outputId": "049be7fd-b0a5-46e5-bf7f-e30a41a4c872"
      },
      "execution_count": 4,
      "outputs": [
        {
          "output_type": "stream",
          "name": "stdout",
          "text": [
            "     ord_no  purch_amt    ord_date  customer_id  salesman_id\n",
            "0   70001.0     150.50  2012-10-05         3002       5002.0\n",
            "1       NaN     270.65  2012-09-10         3001       5003.0\n",
            "2   70002.0      65.26         NaN         3001       5001.0\n",
            "3   70004.0     110.50  2012-08-17         3003          NaN\n",
            "4       NaN     948.50  2012-09-10         3002       5002.0\n",
            "5   70005.0    2400.60  2012-07-27         3001       5001.0\n",
            "6       NaN    5760.00  2012-09-10         3001       5001.0\n",
            "7   70010.0    1983.43  2012-10-10         3004          NaN\n",
            "8   70003.0    2480.40  2012-10-10         3003       5003.0\n",
            "9   70012.0     250.45  2012-06-27         3002       5002.0\n",
            "10      NaN      75.29  2012-08-17         3001       5003.0\n",
            "11  70013.0    3045.60  2012-04-25         3001          NaN\n"
          ]
        }
      ]
    },
    {
      "cell_type": "code",
      "source": [
        "# Write a Pandas program to detect missing values of a given DataFrame. Display True or False.\n",
        "\n",
        "print(data.isna())"
      ],
      "metadata": {
        "colab": {
          "base_uri": "https://localhost:8080/"
        },
        "id": "tZiSVGnuvIsT",
        "outputId": "1e5dd603-d306-4168-ae28-9df6648c7b67"
      },
      "execution_count": 5,
      "outputs": [
        {
          "output_type": "stream",
          "name": "stdout",
          "text": [
            "    ord_no  purch_amt  ord_date  customer_id  salesman_id\n",
            "0    False      False     False        False        False\n",
            "1     True      False     False        False        False\n",
            "2    False      False      True        False        False\n",
            "3    False      False     False        False         True\n",
            "4     True      False     False        False        False\n",
            "5    False      False     False        False        False\n",
            "6     True      False     False        False        False\n",
            "7    False      False     False        False         True\n",
            "8    False      False     False        False        False\n",
            "9    False      False     False        False        False\n",
            "10    True      False     False        False        False\n",
            "11   False      False     False        False         True\n"
          ]
        }
      ]
    },
    {
      "cell_type": "code",
      "source": [
        "# Write a Pandas program to identify the column(s) of a given DataFrame which have at least one missing value.\n",
        "\n",
        "print(data.isna().any())"
      ],
      "metadata": {
        "colab": {
          "base_uri": "https://localhost:8080/"
        },
        "id": "c0ZhiCL8vIvm",
        "outputId": "25e844a9-f50b-4ab1-f8c7-1718efee4915"
      },
      "execution_count": 6,
      "outputs": [
        {
          "output_type": "stream",
          "name": "stdout",
          "text": [
            "ord_no          True\n",
            "purch_amt      False\n",
            "ord_date        True\n",
            "customer_id    False\n",
            "salesman_id     True\n",
            "dtype: bool\n"
          ]
        }
      ]
    },
    {
      "cell_type": "code",
      "source": [
        "# Write a Pandas program to count the number of missing values in each column of a given DataFrame.\n",
        "\n",
        "print(data.isna().sum())"
      ],
      "metadata": {
        "colab": {
          "base_uri": "https://localhost:8080/"
        },
        "id": "MmoYG0rnvI3K",
        "outputId": "467e476d-da9b-42b5-96b9-7ef73f6220da"
      },
      "execution_count": 7,
      "outputs": [
        {
          "output_type": "stream",
          "name": "stdout",
          "text": [
            "ord_no         4\n",
            "purch_amt      0\n",
            "ord_date       1\n",
            "customer_id    0\n",
            "salesman_id    3\n",
            "dtype: int64\n"
          ]
        }
      ]
    },
    {
      "cell_type": "code",
      "source": [
        "# Write a Pandas program to find and replace the missing values in a given DataFrame which do not have any valuable information.\n",
        "\n",
        "data = pd.DataFrame({\n",
        "'ord_no':[70001,np.nan,70002,70004,np.nan,70005,\"--\",70010,70003,70012,np.nan,70013],\n",
        "'purch_amt':[150.5,270.65,65.26,110.5,948.5,2400.6,5760,\"?\",12.43,2480.4,250.45, 3045.6],\n",
        "'ord_date': ['?','2012-09-10',np.nan,'2012-08-17','2012-09-10','2012-07-27','2012-09-10','2012-10-10','2012-10-10','2012-06-27','2012-08-17','2012-04-25'],\n",
        "'customer_id':[3002,3001,3001,3003,3002,3001,3001,3004,\"--\",3002,3001,3001],\n",
        "'salesman_id':[5002,5003,\"?\",5001,np.nan,5002,5001,\"?\",5003,5002,5003,\"--\"]})\n",
        "\n",
        "replace = data.replace({'?': np.nan, \"--\":np.nan})\n",
        "print(replace)"
      ],
      "metadata": {
        "colab": {
          "base_uri": "https://localhost:8080/"
        },
        "id": "hep4SgaPvI6c",
        "outputId": "dbddd019-78df-45da-d5dc-2225cb0e3d4c"
      },
      "execution_count": 9,
      "outputs": [
        {
          "output_type": "stream",
          "name": "stdout",
          "text": [
            "     ord_no  purch_amt    ord_date  customer_id  salesman_id\n",
            "0   70001.0     150.50         NaN       3002.0       5002.0\n",
            "1       NaN     270.65  2012-09-10       3001.0       5003.0\n",
            "2   70002.0      65.26         NaN       3001.0          NaN\n",
            "3   70004.0     110.50  2012-08-17       3003.0       5001.0\n",
            "4       NaN     948.50  2012-09-10       3002.0          NaN\n",
            "5   70005.0    2400.60  2012-07-27       3001.0       5002.0\n",
            "6       NaN    5760.00  2012-09-10       3001.0       5001.0\n",
            "7   70010.0        NaN  2012-10-10       3004.0          NaN\n",
            "8   70003.0      12.43  2012-10-10          NaN       5003.0\n",
            "9   70012.0    2480.40  2012-06-27       3002.0       5002.0\n",
            "10      NaN     250.45  2012-08-17       3001.0       5003.0\n",
            "11  70013.0    3045.60  2012-04-25       3001.0          NaN\n"
          ]
        }
      ]
    },
    {
      "cell_type": "code",
      "source": [
        "# Write a Pandas program to drop the rows where at least one element is missing in a given DataFrame.\n",
        "\n",
        "result = data.dropna()\n",
        "print(result)"
      ],
      "metadata": {
        "colab": {
          "base_uri": "https://localhost:8080/"
        },
        "id": "kDe2PzwcvAgA",
        "outputId": "a0e8c0be-1117-4c50-9ded-50e115dd62f4"
      },
      "execution_count": 10,
      "outputs": [
        {
          "output_type": "stream",
          "name": "stdout",
          "text": [
            "   ord_no purch_amt    ord_date customer_id salesman_id\n",
            "0   70001     150.5           ?        3002        5002\n",
            "3   70004     110.5  2012-08-17        3003        5001\n",
            "5   70005    2400.6  2012-07-27        3001        5002\n",
            "6      --      5760  2012-09-10        3001        5001\n",
            "7   70010         ?  2012-10-10        3004           ?\n",
            "8   70003     12.43  2012-10-10          --        5003\n",
            "9   70012    2480.4  2012-06-27        3002        5002\n",
            "11  70013    3045.6  2012-04-25        3001          --\n"
          ]
        }
      ]
    },
    {
      "cell_type": "code",
      "source": [
        "data = pd.DataFrame({\n",
        "'ord_no':[70001,np.nan,70002,70004,np.nan,70005,np.nan,70010,70003,70012,np.nan,70013],\n",
        "'purch_amt':[150.5,270.65,65.26,110.5,948.5,2400.6,5760,1983.43,2480.4,250.45, 75.29,3045.6],\n",
        "'ord_date': ['2012-10-05','2012-09-10',np.nan,'2012-08-17','2012-09-10','2012-07-27','2012-09-10','2012-10-10','2012-10-10','2012-06-27','2012-08-17','2012-04-25'],\n",
        "'customer_id':[3002,3001,3001,3003,3002,3001,3001,3004,3003,3002,3001,3001],\n",
        "'salesman_id':[5002,5003,5001,np.nan,5002,5001,5001,np.nan,5003,5002,5003,np.nan]})\n",
        "\n",
        "result = data.dropna(axis = 'columns')\n",
        "print(result)"
      ],
      "metadata": {
        "colab": {
          "base_uri": "https://localhost:8080/"
        },
        "id": "JfAN13ebvKE3",
        "outputId": "ec0786fa-15bb-44c9-896b-da8e0c0d72c1"
      },
      "execution_count": 11,
      "outputs": [
        {
          "output_type": "stream",
          "name": "stdout",
          "text": [
            "    purch_amt  customer_id\n",
            "0      150.50         3002\n",
            "1      270.65         3001\n",
            "2       65.26         3001\n",
            "3      110.50         3003\n",
            "4      948.50         3002\n",
            "5     2400.60         3001\n",
            "6     5760.00         3001\n",
            "7     1983.43         3004\n",
            "8     2480.40         3003\n",
            "9      250.45         3002\n",
            "10      75.29         3001\n",
            "11    3045.60         3001\n"
          ]
        }
      ]
    },
    {
      "cell_type": "code",
      "source": [
        "data = pd.DataFrame({\n",
        "'ord_no':[np.nan,np.nan,70002,70004,np.nan,70005,np.nan,70010,70003,70012,np.nan,70013],\n",
        "'purch_amt':[np.nan,270.65,65.26,110.5,948.5,2400.6,5760,1983.43,2480.4,250.45, 75.29,3045.6],\n",
        "'ord_date': [np.nan,'2012-09-10',np.nan,'2012-08-17','2012-09-10','2012-07-27','2012-09-10','2012-10-10','2012-10-10','2012-06-27','2012-08-17','2012-04-25'],\n",
        "'customer_id':[np.nan,3001,3001,3003,3002,3001,3001,3004,3003,3002,3001,3001]})\n",
        "\n",
        "result = data.dropna(how = \"all\")\n",
        "result "
      ],
      "metadata": {
        "colab": {
          "base_uri": "https://localhost:8080/",
          "height": 394
        },
        "id": "SYP8H87OvKFv",
        "outputId": "f8911f3f-03e4-4d80-d44f-de36c496a39c"
      },
      "execution_count": 12,
      "outputs": [
        {
          "output_type": "execute_result",
          "data": {
            "text/plain": [
              "     ord_no  purch_amt    ord_date  customer_id\n",
              "1       NaN     270.65  2012-09-10       3001.0\n",
              "2   70002.0      65.26         NaN       3001.0\n",
              "3   70004.0     110.50  2012-08-17       3003.0\n",
              "4       NaN     948.50  2012-09-10       3002.0\n",
              "5   70005.0    2400.60  2012-07-27       3001.0\n",
              "6       NaN    5760.00  2012-09-10       3001.0\n",
              "7   70010.0    1983.43  2012-10-10       3004.0\n",
              "8   70003.0    2480.40  2012-10-10       3003.0\n",
              "9   70012.0     250.45  2012-06-27       3002.0\n",
              "10      NaN      75.29  2012-08-17       3001.0\n",
              "11  70013.0    3045.60  2012-04-25       3001.0"
            ],
            "text/html": [
              "\n",
              "  <div id=\"df-263f3503-3be2-4198-88fb-eb2154efdad2\">\n",
              "    <div class=\"colab-df-container\">\n",
              "      <div>\n",
              "<style scoped>\n",
              "    .dataframe tbody tr th:only-of-type {\n",
              "        vertical-align: middle;\n",
              "    }\n",
              "\n",
              "    .dataframe tbody tr th {\n",
              "        vertical-align: top;\n",
              "    }\n",
              "\n",
              "    .dataframe thead th {\n",
              "        text-align: right;\n",
              "    }\n",
              "</style>\n",
              "<table border=\"1\" class=\"dataframe\">\n",
              "  <thead>\n",
              "    <tr style=\"text-align: right;\">\n",
              "      <th></th>\n",
              "      <th>ord_no</th>\n",
              "      <th>purch_amt</th>\n",
              "      <th>ord_date</th>\n",
              "      <th>customer_id</th>\n",
              "    </tr>\n",
              "  </thead>\n",
              "  <tbody>\n",
              "    <tr>\n",
              "      <th>1</th>\n",
              "      <td>NaN</td>\n",
              "      <td>270.65</td>\n",
              "      <td>2012-09-10</td>\n",
              "      <td>3001.0</td>\n",
              "    </tr>\n",
              "    <tr>\n",
              "      <th>2</th>\n",
              "      <td>70002.0</td>\n",
              "      <td>65.26</td>\n",
              "      <td>NaN</td>\n",
              "      <td>3001.0</td>\n",
              "    </tr>\n",
              "    <tr>\n",
              "      <th>3</th>\n",
              "      <td>70004.0</td>\n",
              "      <td>110.50</td>\n",
              "      <td>2012-08-17</td>\n",
              "      <td>3003.0</td>\n",
              "    </tr>\n",
              "    <tr>\n",
              "      <th>4</th>\n",
              "      <td>NaN</td>\n",
              "      <td>948.50</td>\n",
              "      <td>2012-09-10</td>\n",
              "      <td>3002.0</td>\n",
              "    </tr>\n",
              "    <tr>\n",
              "      <th>5</th>\n",
              "      <td>70005.0</td>\n",
              "      <td>2400.60</td>\n",
              "      <td>2012-07-27</td>\n",
              "      <td>3001.0</td>\n",
              "    </tr>\n",
              "    <tr>\n",
              "      <th>6</th>\n",
              "      <td>NaN</td>\n",
              "      <td>5760.00</td>\n",
              "      <td>2012-09-10</td>\n",
              "      <td>3001.0</td>\n",
              "    </tr>\n",
              "    <tr>\n",
              "      <th>7</th>\n",
              "      <td>70010.0</td>\n",
              "      <td>1983.43</td>\n",
              "      <td>2012-10-10</td>\n",
              "      <td>3004.0</td>\n",
              "    </tr>\n",
              "    <tr>\n",
              "      <th>8</th>\n",
              "      <td>70003.0</td>\n",
              "      <td>2480.40</td>\n",
              "      <td>2012-10-10</td>\n",
              "      <td>3003.0</td>\n",
              "    </tr>\n",
              "    <tr>\n",
              "      <th>9</th>\n",
              "      <td>70012.0</td>\n",
              "      <td>250.45</td>\n",
              "      <td>2012-06-27</td>\n",
              "      <td>3002.0</td>\n",
              "    </tr>\n",
              "    <tr>\n",
              "      <th>10</th>\n",
              "      <td>NaN</td>\n",
              "      <td>75.29</td>\n",
              "      <td>2012-08-17</td>\n",
              "      <td>3001.0</td>\n",
              "    </tr>\n",
              "    <tr>\n",
              "      <th>11</th>\n",
              "      <td>70013.0</td>\n",
              "      <td>3045.60</td>\n",
              "      <td>2012-04-25</td>\n",
              "      <td>3001.0</td>\n",
              "    </tr>\n",
              "  </tbody>\n",
              "</table>\n",
              "</div>\n",
              "      <button class=\"colab-df-convert\" onclick=\"convertToInteractive('df-263f3503-3be2-4198-88fb-eb2154efdad2')\"\n",
              "              title=\"Convert this dataframe to an interactive table.\"\n",
              "              style=\"display:none;\">\n",
              "        \n",
              "  <svg xmlns=\"http://www.w3.org/2000/svg\" height=\"24px\"viewBox=\"0 0 24 24\"\n",
              "       width=\"24px\">\n",
              "    <path d=\"M0 0h24v24H0V0z\" fill=\"none\"/>\n",
              "    <path d=\"M18.56 5.44l.94 2.06.94-2.06 2.06-.94-2.06-.94-.94-2.06-.94 2.06-2.06.94zm-11 1L8.5 8.5l.94-2.06 2.06-.94-2.06-.94L8.5 2.5l-.94 2.06-2.06.94zm10 10l.94 2.06.94-2.06 2.06-.94-2.06-.94-.94-2.06-.94 2.06-2.06.94z\"/><path d=\"M17.41 7.96l-1.37-1.37c-.4-.4-.92-.59-1.43-.59-.52 0-1.04.2-1.43.59L10.3 9.45l-7.72 7.72c-.78.78-.78 2.05 0 2.83L4 21.41c.39.39.9.59 1.41.59.51 0 1.02-.2 1.41-.59l7.78-7.78 2.81-2.81c.8-.78.8-2.07 0-2.86zM5.41 20L4 18.59l7.72-7.72 1.47 1.35L5.41 20z\"/>\n",
              "  </svg>\n",
              "      </button>\n",
              "      \n",
              "  <style>\n",
              "    .colab-df-container {\n",
              "      display:flex;\n",
              "      flex-wrap:wrap;\n",
              "      gap: 12px;\n",
              "    }\n",
              "\n",
              "    .colab-df-convert {\n",
              "      background-color: #E8F0FE;\n",
              "      border: none;\n",
              "      border-radius: 50%;\n",
              "      cursor: pointer;\n",
              "      display: none;\n",
              "      fill: #1967D2;\n",
              "      height: 32px;\n",
              "      padding: 0 0 0 0;\n",
              "      width: 32px;\n",
              "    }\n",
              "\n",
              "    .colab-df-convert:hover {\n",
              "      background-color: #E2EBFA;\n",
              "      box-shadow: 0px 1px 2px rgba(60, 64, 67, 0.3), 0px 1px 3px 1px rgba(60, 64, 67, 0.15);\n",
              "      fill: #174EA6;\n",
              "    }\n",
              "\n",
              "    [theme=dark] .colab-df-convert {\n",
              "      background-color: #3B4455;\n",
              "      fill: #D2E3FC;\n",
              "    }\n",
              "\n",
              "    [theme=dark] .colab-df-convert:hover {\n",
              "      background-color: #434B5C;\n",
              "      box-shadow: 0px 1px 3px 1px rgba(0, 0, 0, 0.15);\n",
              "      filter: drop-shadow(0px 1px 2px rgba(0, 0, 0, 0.3));\n",
              "      fill: #FFFFFF;\n",
              "    }\n",
              "  </style>\n",
              "\n",
              "      <script>\n",
              "        const buttonEl =\n",
              "          document.querySelector('#df-263f3503-3be2-4198-88fb-eb2154efdad2 button.colab-df-convert');\n",
              "        buttonEl.style.display =\n",
              "          google.colab.kernel.accessAllowed ? 'block' : 'none';\n",
              "\n",
              "        async function convertToInteractive(key) {\n",
              "          const element = document.querySelector('#df-263f3503-3be2-4198-88fb-eb2154efdad2');\n",
              "          const dataTable =\n",
              "            await google.colab.kernel.invokeFunction('convertToInteractive',\n",
              "                                                     [key], {});\n",
              "          if (!dataTable) return;\n",
              "\n",
              "          const docLinkHtml = 'Like what you see? Visit the ' +\n",
              "            '<a target=\"_blank\" href=https://colab.research.google.com/notebooks/data_table.ipynb>data table notebook</a>'\n",
              "            + ' to learn more about interactive tables.';\n",
              "          element.innerHTML = '';\n",
              "          dataTable['output_type'] = 'display_data';\n",
              "          await google.colab.output.renderOutput(dataTable, element);\n",
              "          const docLink = document.createElement('div');\n",
              "          docLink.innerHTML = docLinkHtml;\n",
              "          element.appendChild(docLink);\n",
              "        }\n",
              "      </script>\n",
              "    </div>\n",
              "  </div>\n",
              "  "
            ]
          },
          "metadata": {},
          "execution_count": 12
        }
      ]
    },
    {
      "cell_type": "code",
      "source": [
        "# Write a Pandas program to keep the rows with at least 2 NaN values in a given DataFrame.\n",
        "\n",
        "data = pd.DataFrame({\n",
        "'ord_no':[np.nan,np.nan,70002,np.nan,np.nan,70005,np.nan,70010,70003,70012,np.nan,np.nan],\n",
        "'purch_amt':[np.nan,270.65,65.26,np.nan,948.5,2400.6,5760,1983.43,2480.4,250.45, 75.29,np.nan],\n",
        "'ord_date': [np.nan,'2012-09-10',np.nan,np.nan,'2012-09-10','2012-07-27','2012-09-10','2012-10-10','2012-10-10','2012-06-27','2012-08-17',np.nan],\n",
        "'customer_id':[np.nan,3001,3001,np.nan,3002,3001,3001,3004,3003,3002,3001,np.nan]})\n",
        "\n",
        "result = data.dropna(thresh = 3)\n",
        "print(result)"
      ],
      "metadata": {
        "colab": {
          "base_uri": "https://localhost:8080/"
        },
        "id": "tcPI7iS2vKKx",
        "outputId": "e77c5c49-5882-4a3f-e019-8864a5ae04da"
      },
      "execution_count": 13,
      "outputs": [
        {
          "output_type": "stream",
          "name": "stdout",
          "text": [
            "     ord_no  purch_amt    ord_date  customer_id\n",
            "1       NaN     270.65  2012-09-10       3001.0\n",
            "2   70002.0      65.26         NaN       3001.0\n",
            "4       NaN     948.50  2012-09-10       3002.0\n",
            "5   70005.0    2400.60  2012-07-27       3001.0\n",
            "6       NaN    5760.00  2012-09-10       3001.0\n",
            "7   70010.0    1983.43  2012-10-10       3004.0\n",
            "8   70003.0    2480.40  2012-10-10       3003.0\n",
            "9   70012.0     250.45  2012-06-27       3002.0\n",
            "10      NaN      75.29  2012-08-17       3001.0\n"
          ]
        }
      ]
    },
    {
      "cell_type": "code",
      "source": [
        "# Write a Pandas program to drop those rows from a given DataFrame in which spicific columns have missing values.\n",
        "\n",
        "data = pd.DataFrame({\n",
        "'ord_no':[np.nan,np.nan,70002,np.nan,np.nan,70005,np.nan,70010,70003,70012,np.nan,np.nan],\n",
        "'purch_amt':[np.nan,270.65,65.26,np.nan,948.5,2400.6,5760,1983.43,2480.4,250.45, 75.29,np.nan],\n",
        "'ord_date': [np.nan,'2012-09-10',np.nan,np.nan,'2012-09-10','2012-07-27','2012-09-10','2012-10-10','2012-10-10','2012-06-27','2012-08-17',np.nan],\n",
        "'customer_id':[np.nan,3001,3001,np.nan,3002,3001,3001,3004,3003,3002,3001,np.nan]})\n",
        "\n",
        "\n",
        "result = data.dropna(subset = ['ord_no', 'customer_id'])\n",
        "print(result)"
      ],
      "metadata": {
        "colab": {
          "base_uri": "https://localhost:8080/"
        },
        "id": "iUS1j396vKN4",
        "outputId": "92728ec9-742b-4fd7-8bc7-387218849102"
      },
      "execution_count": 14,
      "outputs": [
        {
          "output_type": "stream",
          "name": "stdout",
          "text": [
            "    ord_no  purch_amt    ord_date  customer_id\n",
            "2  70002.0      65.26         NaN       3001.0\n",
            "5  70005.0    2400.60  2012-07-27       3001.0\n",
            "7  70010.0    1983.43  2012-10-10       3004.0\n",
            "8  70003.0    2480.40  2012-10-10       3003.0\n",
            "9  70012.0     250.45  2012-06-27       3002.0\n"
          ]
        }
      ]
    },
    {
      "cell_type": "code",
      "source": [
        "# Write a Pandas program to calculate the total number of missing values in a DataFrame.\n",
        "\n",
        "data = pd.DataFrame({\n",
        "'ord_no':[np.nan,np.nan,70002,np.nan,np.nan,70005,np.nan,70010,70003,70012,np.nan,np.nan],\n",
        "'purch_amt':[np.nan,270.65,65.26,np.nan,948.5,2400.6,5760,1983.43,2480.4,250.45, 75.29,np.nan],\n",
        "'ord_date': [np.nan,'2012-09-10',np.nan,np.nan,'2012-09-10','2012-07-27','2012-09-10','2012-10-10','2012-10-10','2012-06-27','2012-08-17',np.nan],\n",
        "'customer_id':[np.nan,3001,3001,np.nan,3002,3001,3001,3004,3003,3002,3001,np.nan]})\n",
        "\n",
        "result = data.isna().sum()\n",
        "result1 = data.isna().sum().sum()\n",
        "print(result)\n",
        "\n",
        "print(\"Total:\")\n",
        "print(result1)"
      ],
      "metadata": {
        "colab": {
          "base_uri": "https://localhost:8080/"
        },
        "id": "jR7cfzYgvKRA",
        "outputId": "60e6005c-9734-48df-e21f-b8a7a11b6500"
      },
      "execution_count": 19,
      "outputs": [
        {
          "output_type": "stream",
          "name": "stdout",
          "text": [
            "ord_no         7\n",
            "purch_amt      3\n",
            "ord_date       4\n",
            "customer_id    3\n",
            "dtype: int64\n",
            "Total:\n",
            "17\n"
          ]
        }
      ]
    },
    {
      "cell_type": "code",
      "source": [
        "# Write a Pandas program to replace NaNs with a single constant value in specified columns in a DataFrame.\n",
        "\n",
        "replace = data['ord_no'].fillna(0, inplace = False)\n",
        "print(replace)"
      ],
      "metadata": {
        "colab": {
          "base_uri": "https://localhost:8080/"
        },
        "id": "MF-25RWBESPK",
        "outputId": "d905a523-5c8b-4764-bfb6-75b91bfe0d89"
      },
      "execution_count": 22,
      "outputs": [
        {
          "output_type": "stream",
          "name": "stdout",
          "text": [
            "0         0.0\n",
            "1         0.0\n",
            "2     70002.0\n",
            "3         0.0\n",
            "4         0.0\n",
            "5     70005.0\n",
            "6         0.0\n",
            "7     70010.0\n",
            "8     70003.0\n",
            "9     70012.0\n",
            "10        0.0\n",
            "11        0.0\n",
            "Name: ord_no, dtype: float64\n"
          ]
        }
      ]
    },
    {
      "cell_type": "code",
      "source": [
        "# Write a Pandas program to replace NaNs with the value from the previous row or the next row in a given DataFrame.\n",
        "\n",
        "data = pd.DataFrame({\n",
        "'ord_no':[70001,np.nan,70002,70004,np.nan,70005,np.nan,70010,70003,70012,np.nan,70013],\n",
        "'purch_amt':[150.5,np.nan,65.26,110.5,948.5,np.nan,5760,1983.43,np.nan,250.45, 75.29,3045.6],\n",
        "'sale_amt':[10.5,20.65,np.nan,11.5,98.5,np.nan,57,19.43,np.nan,25.45, 75.29,35.6],\n",
        "'ord_date': ['2012-10-05','2012-09-10',np.nan,'2012-08-17','2012-09-10','2012-07-27','2012-09-10','2012-10-10','2012-10-10','2012-06-27','2012-08-17','2012-04-25'],\n",
        "'customer_id':[3002,3001,3001,3003,3002,3001,3001,3004,3003,3002,3001,3001],\n",
        "'salesman_id':[5002,5003,5001,np.nan,5002,5001,5001,np.nan,5003,5002,5003,np.nan]})\n",
        "print(data)\n",
        "\n",
        "print(\"Replacing NaNs with the previous row\")\n",
        "data['purch_amt'].fillna(method = 'pad', inplace = True)\n",
        "print(data)\n",
        "\n",
        "print(\"Replacing NaNs with the next row\")\n",
        "data['sale_amt'].fillna(method  = 'bfill', inplace = True)\n",
        "print(data)"
      ],
      "metadata": {
        "colab": {
          "base_uri": "https://localhost:8080/"
        },
        "id": "U9dSC0pvvKUC",
        "outputId": "ccf79e6e-34f5-4096-eb3c-795052b97449"
      },
      "execution_count": 24,
      "outputs": [
        {
          "output_type": "stream",
          "name": "stdout",
          "text": [
            "     ord_no  purch_amt  sale_amt    ord_date  customer_id  salesman_id\n",
            "0   70001.0     150.50     10.50  2012-10-05         3002       5002.0\n",
            "1       NaN        NaN     20.65  2012-09-10         3001       5003.0\n",
            "2   70002.0      65.26       NaN         NaN         3001       5001.0\n",
            "3   70004.0     110.50     11.50  2012-08-17         3003          NaN\n",
            "4       NaN     948.50     98.50  2012-09-10         3002       5002.0\n",
            "5   70005.0        NaN       NaN  2012-07-27         3001       5001.0\n",
            "6       NaN    5760.00     57.00  2012-09-10         3001       5001.0\n",
            "7   70010.0    1983.43     19.43  2012-10-10         3004          NaN\n",
            "8   70003.0        NaN       NaN  2012-10-10         3003       5003.0\n",
            "9   70012.0     250.45     25.45  2012-06-27         3002       5002.0\n",
            "10      NaN      75.29     75.29  2012-08-17         3001       5003.0\n",
            "11  70013.0    3045.60     35.60  2012-04-25         3001          NaN\n",
            "Replacing NaNs with the previous row\n",
            "     ord_no  purch_amt  sale_amt    ord_date  customer_id  salesman_id\n",
            "0   70001.0     150.50     10.50  2012-10-05         3002       5002.0\n",
            "1       NaN     150.50     20.65  2012-09-10         3001       5003.0\n",
            "2   70002.0      65.26       NaN         NaN         3001       5001.0\n",
            "3   70004.0     110.50     11.50  2012-08-17         3003          NaN\n",
            "4       NaN     948.50     98.50  2012-09-10         3002       5002.0\n",
            "5   70005.0     948.50       NaN  2012-07-27         3001       5001.0\n",
            "6       NaN    5760.00     57.00  2012-09-10         3001       5001.0\n",
            "7   70010.0    1983.43     19.43  2012-10-10         3004          NaN\n",
            "8   70003.0    1983.43       NaN  2012-10-10         3003       5003.0\n",
            "9   70012.0     250.45     25.45  2012-06-27         3002       5002.0\n",
            "10      NaN      75.29     75.29  2012-08-17         3001       5003.0\n",
            "11  70013.0    3045.60     35.60  2012-04-25         3001          NaN\n",
            "Replacing NaNs with the next row\n",
            "     ord_no  purch_amt  sale_amt    ord_date  customer_id  salesman_id\n",
            "0   70001.0     150.50     10.50  2012-10-05         3002       5002.0\n",
            "1       NaN     150.50     20.65  2012-09-10         3001       5003.0\n",
            "2   70002.0      65.26     11.50         NaN         3001       5001.0\n",
            "3   70004.0     110.50     11.50  2012-08-17         3003          NaN\n",
            "4       NaN     948.50     98.50  2012-09-10         3002       5002.0\n",
            "5   70005.0     948.50     57.00  2012-07-27         3001       5001.0\n",
            "6       NaN    5760.00     57.00  2012-09-10         3001       5001.0\n",
            "7   70010.0    1983.43     19.43  2012-10-10         3004          NaN\n",
            "8   70003.0    1983.43     25.45  2012-10-10         3003       5003.0\n",
            "9   70012.0     250.45     25.45  2012-06-27         3002       5002.0\n",
            "10      NaN      75.29     75.29  2012-08-17         3001       5003.0\n",
            "11  70013.0    3045.60     35.60  2012-04-25         3001          NaN\n"
          ]
        }
      ]
    },
    {
      "cell_type": "code",
      "source": [
        "# Write a Pandas program to replace NaNs with median or mean of the specified columns in a given DataFrame.\n",
        "\n",
        "data = pd.DataFrame({\n",
        "'ord_no':[70001,np.nan,70002,70004,np.nan,70005,np.nan,70010,70003,70012,np.nan,70013],\n",
        "'purch_amt':[150.5,np.nan,65.26,110.5,948.5,np.nan,5760,1983.43,np.nan,250.45, 75.29,3045.6],\n",
        "'sale_amt':[10.5,20.65,np.nan,11.5,98.5,np.nan,57,19.43,np.nan,25.45, 75.29,35.6],\n",
        "'ord_date': ['2012-10-05','2012-09-10',np.nan,'2012-08-17','2012-09-10','2012-07-27','2012-09-10','2012-10-10','2012-10-10','2012-06-27','2012-08-17','2012-04-25'],\n",
        "'customer_id':[3002,3001,3001,3003,3002,3001,3001,3004,3003,3002,3001,3001],\n",
        "'salesman_id':[5002,5003,5001,np.nan,5002,5001,5001,np.nan,5003,5002,5003,np.nan]})\n",
        "\n",
        "data['purch_amt'].fillna(data['purch_amt'].median(), inplace = True)\n",
        "print(data)\n",
        "\n",
        "data['sale_amt'].fillna(int(data['sale_amt'].mean()), inplace = True)\n",
        "print(data)"
      ],
      "metadata": {
        "colab": {
          "base_uri": "https://localhost:8080/"
        },
        "id": "6FXZAP2OvKXj",
        "outputId": "a3b4a98b-2e5a-428b-b131-5c6b1354b28d"
      },
      "execution_count": 26,
      "outputs": [
        {
          "output_type": "stream",
          "name": "stdout",
          "text": [
            "     ord_no  purch_amt  sale_amt    ord_date  customer_id  salesman_id\n",
            "0   70001.0     150.50     10.50  2012-10-05         3002       5002.0\n",
            "1       NaN     250.45     20.65  2012-09-10         3001       5003.0\n",
            "2   70002.0      65.26       NaN         NaN         3001       5001.0\n",
            "3   70004.0     110.50     11.50  2012-08-17         3003          NaN\n",
            "4       NaN     948.50     98.50  2012-09-10         3002       5002.0\n",
            "5   70005.0     250.45       NaN  2012-07-27         3001       5001.0\n",
            "6       NaN    5760.00     57.00  2012-09-10         3001       5001.0\n",
            "7   70010.0    1983.43     19.43  2012-10-10         3004          NaN\n",
            "8   70003.0     250.45       NaN  2012-10-10         3003       5003.0\n",
            "9   70012.0     250.45     25.45  2012-06-27         3002       5002.0\n",
            "10      NaN      75.29     75.29  2012-08-17         3001       5003.0\n",
            "11  70013.0    3045.60     35.60  2012-04-25         3001          NaN\n",
            "     ord_no  purch_amt  sale_amt    ord_date  customer_id  salesman_id\n",
            "0   70001.0     150.50     10.50  2012-10-05         3002       5002.0\n",
            "1       NaN     250.45     20.65  2012-09-10         3001       5003.0\n",
            "2   70002.0      65.26     39.00         NaN         3001       5001.0\n",
            "3   70004.0     110.50     11.50  2012-08-17         3003          NaN\n",
            "4       NaN     948.50     98.50  2012-09-10         3002       5002.0\n",
            "5   70005.0     250.45     39.00  2012-07-27         3001       5001.0\n",
            "6       NaN    5760.00     57.00  2012-09-10         3001       5001.0\n",
            "7   70010.0    1983.43     19.43  2012-10-10         3004          NaN\n",
            "8   70003.0     250.45     39.00  2012-10-10         3003       5003.0\n",
            "9   70012.0     250.45     25.45  2012-06-27         3002       5002.0\n",
            "10      NaN      75.29     75.29  2012-08-17         3001       5003.0\n",
            "11  70013.0    3045.60     35.60  2012-04-25         3001          NaN\n"
          ]
        }
      ]
    },
    {
      "cell_type": "code",
      "source": [
        "# Write a Pandas program to count the number of missing values of a specified column in a given DataFrame.\n",
        "\n",
        "data = pd.DataFrame({\n",
        "'ord_no':[70001,np.nan,70002,70004,np.nan,70005,np.nan,70010,70003,70012,np.nan,70013],\n",
        "'purch_amt':[150.5,np.nan,65.26,110.5,948.5,np.nan,5760,1983.43,np.nan,250.45, 75.29,3045.6],\n",
        "'sale_amt':[10.5,20.65,np.nan,11.5,98.5,np.nan,57,19.43,np.nan,25.45, 75.29,35.6],\n",
        "'ord_date': ['2012-10-05','2012-09-10',np.nan,'2012-08-17','2012-09-10','2012-07-27','2012-09-10','2012-10-10','2012-10-10','2012-06-27','2012-08-17','2012-04-25'],\n",
        "'customer_id':[3002,3001,3001,3003,3002,3001,3001,3004,3003,3002,3001,3001],\n",
        "'salesman_id':[5002,5003,5001,np.nan,5002,5001,5001,np.nan,5003,5002,5003,np.nan]})\n",
        "\n",
        "result = data['purch_amt'].value_counts(dropna = False).loc[np.nan]\n",
        "print(result)"
      ],
      "metadata": {
        "colab": {
          "base_uri": "https://localhost:8080/"
        },
        "id": "o1-q22COvKa3",
        "outputId": "a0f6ff61-4a17-4ca6-a70e-e94fb05384db"
      },
      "execution_count": 32,
      "outputs": [
        {
          "output_type": "stream",
          "name": "stdout",
          "text": [
            "3\n"
          ]
        }
      ]
    },
    {
      "cell_type": "code",
      "source": [
        "# Write a Pandas program to find the Indexes of missing values in a given DataFrame.\n",
        "\n",
        "data = pd.DataFrame({\n",
        "'ord_no':[70001,np.nan,70002,70004,np.nan,70005,np.nan,70010,70003,70012,np.nan,70013],\n",
        "'purch_amt':[150.5,np.nan,65.26,110.5,948.5,np.nan,5760,1983.43,np.nan,250.45, 75.29,3045.6],\n",
        "'sale_amt':[10.5,20.65,np.nan,11.5,98.5,np.nan,57,19.43,np.nan,25.45, 75.29,35.6],\n",
        "'ord_date': ['2012-10-05','2012-09-10',np.nan,'2012-08-17','2012-09-10','2012-07-27','2012-09-10','2012-10-10','2012-10-10','2012-06-27','2012-08-17','2012-04-25'],\n",
        "'customer_id':[3002,3001,3001,3003,3002,3001,3001,3004,3003,3002,3001,3001],\n",
        "'salesman_id':[5002,5003,5001,np.nan,5002,5001,5001,np.nan,5003,5002,5003,np.nan]})\n",
        "\n",
        "result = data['ord_no'].isnull().to_numpy().nonzero()\n",
        "print(result)"
      ],
      "metadata": {
        "colab": {
          "base_uri": "https://localhost:8080/"
        },
        "id": "EMtCjXeCvKdy",
        "outputId": "05443e7e-f123-49ac-ab58-da6f968a0e48"
      },
      "execution_count": 35,
      "outputs": [
        {
          "output_type": "stream",
          "name": "stdout",
          "text": [
            "(array([ 1,  4,  6, 10]),)\n"
          ]
        }
      ]
    },
    {
      "cell_type": "code",
      "source": [
        "df = pd.DataFrame({\n",
        "'ord_no':[70001,np.nan,70002,70004,np.nan,70005,np.nan,70010,70003,70012,np.nan,70013],\n",
        "'purch_amt':[150.5,np.nan,65.26,110.5,948.5,np.nan,5760,1983.43,np.nan,250.45, 75.29,3045.6],\n",
        "'sale_amt':[10.5,20.65,np.nan,11.5,98.5,np.nan,57,19.43,np.nan,25.45, 75.29,35.6],\n",
        "'ord_date': ['2012-10-05','2012-09-10',np.nan,'2012-08-17','2012-09-10','2012-07-27','2012-09-10','2012-10-10','2012-10-10','2012-06-27','2012-08-17','2012-04-25'],\n",
        "'customer_id':[3002,3001,3001,3003,3002,3001,3001,3004,3003,3002,3001,3001],\n",
        "'salesman_id':[5002,5003,5001,np.nan,5002,5001,5001,np.nan,5003,5002,5003,np.nan]})\n",
        "plt.figure(figsize=(16,10))\n",
        "sns.heatmap(df.isnull(), cbar=False, cmap=\"YlGnBu\")\n",
        "plt.show()"
      ],
      "metadata": {
        "colab": {
          "base_uri": "https://localhost:8080/",
          "height": 592
        },
        "id": "k-yvc65nvKgm",
        "outputId": "0efd60fe-dfc1-4d62-bd70-73090b7d1dc0"
      },
      "execution_count": 40,
      "outputs": [
        {
          "output_type": "display_data",
          "data": {
            "text/plain": [
              "<Figure size 1152x720 with 1 Axes>"
            ],
            "image/png": "[encoded data removed]"
          },
          "metadata": {
            "needs_background": "light"
          }
        }
      ]
    },
    {
      "cell_type": "code",
      "source": [
        ""
      ],
      "metadata": {
        "id": "uRv_rBx0vKj0"
      },
      "execution_count": null,
      "outputs": []
    },
    {
      "cell_type": "code",
      "source": [
        ""
      ],
      "metadata": {
        "id": "M2gLSHHgvKqA"
      },
      "execution_count": null,
      "outputs": []
    },
    {
      "cell_type": "code",
      "source": [
        ""
      ],
      "metadata": {
        "id": "a0-HMnkevKs6"
      },
      "execution_count": null,
      "outputs": []
    },
    {
      "cell_type": "code",
      "source": [
        ""
      ],
      "metadata": {
        "id": "LrlE0Qo4vKwP"
      },
      "execution_count": null,
      "outputs": []
    },
    {
      "cell_type": "code",
      "source": [
        ""
      ],
      "metadata": {
        "id": "gU47X4P2vKzL"
      },
      "execution_count": null,
      "outputs": []
    },
    {
      "cell_type": "code",
      "source": [
        ""
      ],
      "metadata": {
        "id": "6eooNLAtvK2P"
      },
      "execution_count": null,
      "outputs": []
    },
    {
      "cell_type": "code",
      "source": [
        ""
      ],
      "metadata": {
        "id": "32lyayyhvK5e"
      },
      "execution_count": null,
      "outputs": []
    },
    {
      "cell_type": "code",
      "source": [
        ""
      ],
      "metadata": {
        "id": "RR1aNpaOvK8m"
      },
      "execution_count": null,
      "outputs": []
    },
    {
      "cell_type": "code",
      "source": [
        ""
      ],
      "metadata": {
        "id": "oZUnbMpovK_r"
      },
      "execution_count": null,
      "outputs": []
    },
    {
      "cell_type": "code",
      "source": [
        ""
      ],
      "metadata": {
        "id": "cXukz54HvLDB"
      },
      "execution_count": null,
      "outputs": []
    },
    {
      "cell_type": "code",
      "source": [
        ""
      ],
      "metadata": {
        "id": "3JDhcCd0vLGX"
      },
      "execution_count": null,
      "outputs": []
    },
    {
      "cell_type": "code",
      "source": [
        ""
      ],
      "metadata": {
        "id": "WH97hU7ivLJX"
      },
      "execution_count": null,
      "outputs": []
    },
    {
      "cell_type": "code",
      "source": [
        ""
      ],
      "metadata": {
        "id": "hAh2HX7BvLM3"
      },
      "execution_count": null,
      "outputs": []
    },
    {
      "cell_type": "code",
      "source": [
        ""
      ],
      "metadata": {
        "id": "zmIIazedvLP9"
      },
      "execution_count": null,
      "outputs": []
    },
    {
      "cell_type": "code",
      "source": [
        ""
      ],
      "metadata": {
        "id": "lsuU9AGhvLV1"
      },
      "execution_count": null,
      "outputs": []
    },
    {
      "cell_type": "code",
      "source": [
        ""
      ],
      "metadata": {
        "id": "W4uXozF3vLcS"
      },
      "execution_count": null,
      "outputs": []
    },
    {
      "cell_type": "code",
      "source": [
        ""
      ],
      "metadata": {
        "id": "nHOab-VtvLft"
      },
      "execution_count": null,
      "outputs": []
    },
    {
      "cell_type": "code",
      "source": [
        ""
      ],
      "metadata": {
        "id": "R31aR-cdvLjA"
      },
      "execution_count": null,
      "outputs": []
    },
    {
      "cell_type": "code",
      "source": [
        ""
      ],
      "metadata": {
        "id": "LI0WaIr_vLnk"
      },
      "execution_count": null,
      "outputs": []
    },
    {
      "cell_type": "code",
      "source": [
        ""
      ],
      "metadata": {
        "id": "6mxanthTvLpm"
      },
      "execution_count": null,
      "outputs": []
    },
    {
      "cell_type": "code",
      "source": [
        ""
      ],
      "metadata": {
        "id": "K-sDNYPdvLwa"
      },
      "execution_count": null,
      "outputs": []
    },
    {
      "cell_type": "code",
      "source": [
        ""
      ],
      "metadata": {
        "id": "PW3hvDyEvL2O"
      },
      "execution_count": null,
      "outputs": []
    },
    {
      "cell_type": "code",
      "source": [
        ""
      ],
      "metadata": {
        "id": "z0pgEZz3vL3k"
      },
      "execution_count": null,
      "outputs": []
    },
    {
      "cell_type": "code",
      "source": [
        ""
      ],
      "metadata": {
        "id": "oL6pWt4lvL6y"
      },
      "execution_count": null,
      "outputs": []
    },
    {
      "cell_type": "code",
      "source": [
        ""
      ],
      "metadata": {
        "id": "7Azos2zVvL93"
      },
      "execution_count": null,
      "outputs": []
    },
    {
      "cell_type": "code",
      "source": [
        ""
      ],
      "metadata": {
        "id": "cRvdBm02vMFf"
      },
      "execution_count": null,
      "outputs": []
    },
    {
      "cell_type": "code",
      "source": [
        ""
      ],
      "metadata": {
        "id": "949I0AkcvMIN"
      },
      "execution_count": null,
      "outputs": []
    },
    {
      "cell_type": "code",
      "source": [
        ""
      ],
      "metadata": {
        "id": "5_hYD8dyvMLt"
      },
      "execution_count": null,
      "outputs": []
    },
    {
      "cell_type": "code",
      "source": [
        ""
      ],
      "metadata": {
        "id": "MfWmi88BvMOn"
      },
      "execution_count": null,
      "outputs": []
    },
    {
      "cell_type": "code",
      "source": [
        ""
      ],
      "metadata": {
        "id": "mVtyEzR0vMSL"
      },
      "execution_count": null,
      "outputs": []
    },
    {
      "cell_type": "code",
      "source": [
        ""
      ],
      "metadata": {
        "id": "732RO4yHvMYa"
      },
      "execution_count": null,
      "outputs": []
    },
    {
      "cell_type": "code",
      "source": [
        ""
      ],
      "metadata": {
        "id": "uW32yR9AvMcO"
      },
      "execution_count": null,
      "outputs": []
    },
    {
      "cell_type": "code",
      "source": [
        ""
      ],
      "metadata": {
        "id": "ni3AtS2DvMfh"
      },
      "execution_count": null,
      "outputs": []
    },
    {
      "cell_type": "code",
      "source": [
        ""
      ],
      "metadata": {
        "id": "eDMelI1kvMmi"
      },
      "execution_count": null,
      "outputs": []
    },
    {
      "cell_type": "code",
      "source": [
        ""
      ],
      "metadata": {
        "id": "GDaVKTxGvMqd"
      },
      "execution_count": null,
      "outputs": []
    },
    {
      "cell_type": "code",
      "source": [
        ""
      ],
      "metadata": {
        "id": "_xqFQyHIvMuS"
      },
      "execution_count": null,
      "outputs": []
    },
    {
      "cell_type": "code",
      "source": [
        ""
      ],
      "metadata": {
        "id": "f6IwWfB4vMx-"
      },
      "execution_count": null,
      "outputs": []
    },
    {
      "cell_type": "code",
      "source": [
        ""
      ],
      "metadata": {
        "id": "XNbJAuFEvM1s"
      },
      "execution_count": null,
      "outputs": []
    },
    {
      "cell_type": "code",
      "source": [
        ""
      ],
      "metadata": {
        "id": "-c727C2hvM5N"
      },
      "execution_count": null,
      "outputs": []
    }
  ]
}